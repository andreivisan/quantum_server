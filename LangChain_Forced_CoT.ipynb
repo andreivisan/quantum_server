{
 "cells": [
  {
   "cell_type": "code",
   "execution_count": 57,
   "id": "998c957c-fb00-41c6-9efd-fa908f6a7e67",
   "metadata": {},
   "outputs": [],
   "source": [
    "from langchain_ollama.llms import OllamaLLM\n",
    "from langchain_core.output_parsers import JsonOutputParser\n",
    "from langchain.chains import SimpleSequentialChain\n",
    "from langchain.prompts import PromptTemplate"
   ]
  },
  {
   "cell_type": "code",
   "execution_count": 58,
   "id": "3fe717c8-dfbc-4ac8-bb50-7344250a375c",
   "metadata": {},
   "outputs": [],
   "source": [
    "# Step 1: Reasoning chain\n",
    "reasoning_prompt = PromptTemplate(\n",
    "    input_variables=[\"question\"],\n",
    "    template=\"\"\"\n",
    "Question: {question}\n",
    "\n",
    "Think step-by-step and produce a reasoning outline:\n",
    "\"\"\",\n",
    ")\n",
    "model = OllamaLLM(model=\"llama3.2\", temperature=0.1)\n",
    "reasoning_chain = reasoning_prompt | model"
   ]
  },
  {
   "cell_type": "code",
   "execution_count": 59,
   "id": "6406884b-5901-4a4d-9cee-399594c0b8f6",
   "metadata": {},
   "outputs": [],
   "source": [
    "# Step 2: Final answer chain\n",
    "final_answer_prompt = PromptTemplate(\n",
    "    input_variables=[\"reasoning\"],\n",
    "    template=\"\"\"\n",
    "You produced the following reasoning:\n",
    "{reasoning}\n",
    "\n",
    "Now provide a concise final answer:\n",
    "\"\"\",\n",
    ")\n",
    "final_answer_chain = final_answer_prompt | model"
   ]
  },
  {
   "cell_type": "code",
   "execution_count": 60,
   "id": "104445f2-b79d-4634-8765-4d965ea1132f",
   "metadata": {},
   "outputs": [],
   "source": [
    "overall_chain = reasoning_chain | final_answer_chain"
   ]
  },
  {
   "cell_type": "raw",
   "id": "5522e7cd-40b8-48db-a2cf-b512450bba71",
   "metadata": {},
   "source": [
    "answer = overall_chain.invoke({question: \"write hello world in Java\"})\n",
    "print(answer)"
   ]
  },
  {
   "cell_type": "code",
   "execution_count": null,
   "id": "1abd7ed6-baeb-4132-8704-751483880d53",
   "metadata": {},
   "outputs": [],
   "source": []
  }
 ],
 "metadata": {
  "kernelspec": {
   "display_name": "Python 3 (ipykernel)",
   "language": "python",
   "name": "python3"
  },
  "language_info": {
   "codemirror_mode": {
    "name": "ipython",
    "version": 3
   },
   "file_extension": ".py",
   "mimetype": "text/x-python",
   "name": "python",
   "nbconvert_exporter": "python",
   "pygments_lexer": "ipython3",
   "version": "3.12.6"
  }
 },
 "nbformat": 4,
 "nbformat_minor": 5
}
