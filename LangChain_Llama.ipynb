{
 "cells": [
  {
   "cell_type": "code",
   "execution_count": 64,
   "id": "df794958-3916-4ac7-99d2-a7bdee11479d",
   "metadata": {},
   "outputs": [],
   "source": [
    "from langchain.prompts import ChatPromptTemplate\n",
    "from langchain_ollama.llms import OllamaLLM\n",
    "from langchain.chains import LLMChain\n",
    "from langchain_core.output_parsers import JsonOutputParser\n",
    "from langchain_core.messages import SystemMessage, HumanMessage, AIMessage\n",
    "from langchain_core.exceptions import OutputParserException\n",
    "from pydantic import BaseModel, Field\n",
    "import json\n",
    "import time"
   ]
  },
  {
   "cell_type": "code",
   "execution_count": 65,
   "id": "be504f8b-911d-4a20-83c1-b844dcca7680",
   "metadata": {},
   "outputs": [],
   "source": [
    "with open('system_prompt.txt', 'r') as file:\n",
    "    system_prompt = file.read()\n",
    "system_prompt = system_prompt.replace(\"{\", \"{{\").replace(\"}\", \"}}\")"
   ]
  },
  {
   "cell_type": "code",
   "execution_count": 66,
   "id": "e97b47e9-b8c2-4fc1-a0b2-fcfaac9c5aa2",
   "metadata": {},
   "outputs": [],
   "source": [
    "class StepResponse(BaseModel):\n",
    "    title: str = Field(description=\"title of the step\")\n",
    "    content: str = Field(description=\"content of the step\")\n",
    "    confidence: str = Field(description=\"model confidence level for current step\")\n",
    "    next_action: str = Field(description=\"next action performed by the model\")"
   ]
  },
  {
   "cell_type": "code",
   "execution_count": 71,
   "id": "0044c006-edf7-4840-ac41-b00812f4b786",
   "metadata": {},
   "outputs": [
    {
     "name": "stdout",
     "output_type": "stream",
     "text": [
      "['messages']\n"
     ]
    }
   ],
   "source": [
    "parser = JsonOutputParser(pydantic_object=StepResponse)\n",
    "# Define the prompt template\n",
    "template = f\"\"\"{system_prompt}\n",
    "Messages: {{messages}}\n",
    "\"\"\"\n",
    "# Create the prompt\n",
    "prompt = ChatPromptTemplate.from_template(template)\n",
    "print(prompt.input_variables)\n",
    "model = OllamaLLM(model=\"codeup\")\n",
    "# Build the chain\n",
    "chain = prompt | model | parser\n",
    "user_message = \"How many r are in strawberry. Input string is strawberry, ignore case sensitivity or any other edge cases.\""
   ]
  },
  {
   "cell_type": "code",
   "execution_count": 86,
   "id": "4512ba87-8c87-40b2-9269-8ceee4e11bcd",
   "metadata": {},
   "outputs": [],
   "source": [
    "def generate_chain_of_thought(user_message, max_steps=10, confidence_threshold=99):\n",
    "    messages = [\n",
    "        SystemMessage(content=system_prompt),\n",
    "        HumanMessage(content=user_message),\n",
    "        AIMessage(content=\"Understood. I will now create a detailed reasoning chain following the given instructions, starting with a thorough problem decomposition.\")\n",
    "    ]\n",
    "\n",
    "    steps = []\n",
    "    step_count = 1\n",
    "    total_thinking_time = 0\n",
    "\n",
    "    while True:\n",
    "        start_time = time.time()\n",
    "        try:\n",
    "            step_data = chain.invoke({\"messages\": messages})\n",
    "        except OutputParserException:\n",
    "            step_data = {\n",
    "                \"title\": \"Raw Response\",\n",
    "                \"content\": steps[-1][1],\n",
    "                \"next_action\": \"continue\"\n",
    "            }\n",
    "        end_time = time.time()\n",
    "        thinking_time = end_time - start_time\n",
    "        total_thinking_time += thinking_time\n",
    "\n",
    "        steps.append((f\"Step {step_count}: {step_data['title']}\", step_data['content'], thinking_time))\n",
    "\n",
    "        print(step_data)\n",
    "        messages.append({\"role\": \"assistant\", \"content\": json.dumps(step_data)})\n",
    "        print(\"Next reasoning step: \", step_data[\"title\"])\n",
    "\n",
    "        if step_data[\"next_action\"].lower().strip() == \"final_answer\" or step_count > 10:\n",
    "            break\n",
    "\n",
    "        step_count += 1\n",
    "\n",
    "    # Request final answer\n",
    "    messages.append({\n",
    "        \"role\": \"user\",\n",
    "        \"content\": \"Please provide the final answer based on your reasoning above.\",\n",
    "    })\n",
    "    start_time = time.time()\n",
    "    try:\n",
    "        final_data = chain.invoke({\"messages\": messages})\n",
    "    except OutputParserException:\n",
    "        final_data = {\n",
    "            \"title\": \"Raw Response\",\n",
    "            \"content\": steps[-1][1],\n",
    "            \"next_action\": \"final_answer\"\n",
    "        }\n",
    "    end_time = time.time()\n",
    "    thinking_time = end_time - start_time\n",
    "    total_thinking_time += thinking_time\n",
    "\n",
    "    # Add final answer to steps\n",
    "    steps.append((\"Final Answer\", final_data[\"content\"], thinking_time))\n",
    "\n",
    "    # Yield final results\n",
    "    return steps, total_thinking_time"
   ]
  },
  {
   "cell_type": "code",
   "execution_count": 89,
   "id": "c6080eae-c185-4e7c-8d3c-553a11bf7da9",
   "metadata": {},
   "outputs": [
    {
     "name": "stdout",
     "output_type": "stream",
     "text": [
      "{'title': 'Problem Decomposition', 'content': \"To begin solving this problem, we need to decompose it into its core components. The given task is to write 'hello world' in Java. Let's break it down into the following steps:\\n1. Identify the language and its syntax requirements\\n2. Understand the basic structure of a Java program\\n3. Write the 'hello world' message in Java\\n4. Compile and run the program to ensure correct output\\n\\nNow, let me provide more details for each step...\", 'confidence': 80, 'next_action': 'continue'}\n",
      "Next reasoning step:  Problem Decomposition\n",
      "{'title': 'Step 1: Identify Language and Syntax Requirements', 'content': \"To begin with, we need to identify the language and its syntax requirements for writing 'hello world' in Java. The Java programming language is an object-oriented language that is widely used for developing desktop applications, mobile apps, web applications, and enterprise software. It is important to note that Java is a case-sensitive language, and we need to follow the standard syntax and conventions when writing our code.\", 'confidence': 90, 'next_action': 'continue'}\n",
      "Next reasoning step:  Step 1: Identify Language and Syntax Requirements\n",
      "{'title': 'Step 1: Identify Language and Syntax Requirements', 'content': \"To begin with, we need to identify the language and its syntax requirements for writing 'hello world' in Java. The Java programming language is an object-oriented language that is widely used for developing desktop applications, mobile apps, web applications, and enterprise software. It is important to note that Java is a case-sensitive language, and we need to follow the standard syntax and conventions when writing our code.\", 'confidence': 90, 'next_action': 'continue'}\n",
      "Next reasoning step:  Step 1: Identify Language and Syntax Requirements\n",
      "{'title': 'Step 1: Identify Language and Syntax Requirements', 'content': \"To begin with, we need to identify the language and its syntax requirements for writing 'hello world' in Java. The Java programming language is an object-oriented language that is widely used for developing desktop applications, mobile apps, web applications, and enterprise software. It is important to note that Java is a case-sensitive language, and we need to follow the standard syntax and conventions when writing our code.\", 'confidence': 90, 'next_action': 'continue'}\n",
      "Next reasoning step:  Step 1: Identify Language and Syntax Requirements\n",
      "{'title': 'Step 1: Identify Language and Syntax Requirements', 'content': \"To begin with, we need to identify the language and its syntax requirements for writing 'hello world' in Java. The Java programming language is an object-oriented language that is widely used for developing desktop applications, mobile apps, web applications, and enterprise software. It is important to note that Java is a case-sensitive language, and we need to follow the standard syntax and conventions when writing our code.\", 'confidence': 90, 'next_action': 'continue'}\n",
      "Next reasoning step:  Step 1: Identify Language and Syntax Requirements\n",
      "{'title': 'Step 1: Identify Language and Syntax Requirements', 'content': \"To begin with, we need to identify the language and its syntax requirements for writing 'hello world' in Java. The Java programming language is an object-oriented language that is widely used for developing desktop applications, mobile apps, web applications, and enterprise software.\", 'confidence': 90, 'next_action': 'continue'}\n",
      "Next reasoning step:  Step 1: Identify Language and Syntax Requirements\n",
      "{'title': 'Step 1: Identify Language and Syntax Requirements', 'content': \"To begin with, we need to identify the language and its syntax requirements for writing 'hello world' in Java. The Java programming language is an object-oriented language that is widely used for developing desktop applications, mobile apps, web applications, and enterprise software.\", 'confidence': 90, 'next_action': 'continue'}\n",
      "Next reasoning step:  Step 1: Identify Language and Syntax Requirements\n",
      "{'title': 'Problem Decomposition', 'content': \"To begin with, we need to identify the language and its syntax requirements for writing 'hello world' in Java. The Java programming language is an object-oriented language that is widely used for developing desktop applications, mobile apps, web applications, and enterprise software. It is important to note that Java is a case-sensitive language, and we need to follow the standard syntax and conventions when writing our code.\", 'confidence': 90, 'next_action': 'continue'}\n",
      "Next reasoning step:  Problem Decomposition\n",
      "{'title': 'Raw Response', 'content': \"To begin with, we need to identify the language and its syntax requirements for writing 'hello world' in Java. The Java programming language is an object-oriented language that is widely used for developing desktop applications, mobile apps, web applications, and enterprise software. It is important to note that Java is a case-sensitive language, and we need to follow the standard syntax and conventions when writing our code.\", 'next_action': 'continue'}\n",
      "Next reasoning step:  Raw Response\n",
      "{'title': 'Raw Response', 'content': \"To begin with, we need to identify the language and its syntax requirements for writing 'hello world' in Java. The Java programming language is an object-oriented language that is widely used for developing desktop applications, mobile apps, web applications, and enterprise software. It is important to note that Java is a case-sensitive language, and we need to follow the standard syntax and conventions when writing our code.\", 'next_action': 'continue'}\n",
      "Next reasoning step:  Raw Response\n",
      "{'title': 'Raw Response', 'content': \"To begin with, we need to identify the language and its syntax requirements for writing 'hello world' in Java. The Java programming language is an object-oriented language that is widely used for developing desktop applications, mobile apps, web applications, and enterprise software. It is important to note that Java is a case-sensitive language, and we need to follow the standard syntax and conventions when writing our code.\", 'next_action': 'continue'}\n",
      "Next reasoning step:  Raw Response\n"
     ]
    }
   ],
   "source": [
    "user_message = \"write hello world in java\"\n",
    "steps, total_time = generate_chain_of_thought(user_message)"
   ]
  },
  {
   "cell_type": "code",
   "execution_count": 90,
   "id": "f971f721-9a5f-45be-bda6-877d0c975ffd",
   "metadata": {},
   "outputs": [
    {
     "name": "stdout",
     "output_type": "stream",
     "text": [
      "Final Answer\n",
      "To begin with, we need to identify the language and its syntax requirements for writing 'hello world' in Java. The Java programming language is an object-oriented language that is widely used for developing desktop applications, mobile apps, web applications, and enterprise software. It is important to note that Java is a case-sensitive language, and we need to follow the standard syntax and conventions when writing our code.\n",
      "Time Taken: 24.66 seconds\n",
      "\n",
      "Total Thinking Time: 108.59 seconds\n"
     ]
    }
   ],
   "source": [
    "# Print the steps\n",
    "print(f\"{steps[-1][0]}\\n{steps[-1][1]}\\nTime Taken: {steps[-1][2]:.2f} seconds\\n\")\n",
    "print(f\"Total Thinking Time: {total_time:.2f} seconds\")"
   ]
  },
  {
   "cell_type": "code",
   "execution_count": null,
   "id": "de1dfc06-a96a-4d76-b163-e95356441c04",
   "metadata": {},
   "outputs": [],
   "source": []
  }
 ],
 "metadata": {
  "kernelspec": {
   "display_name": "Python 3 (ipykernel)",
   "language": "python",
   "name": "python3"
  },
  "language_info": {
   "codemirror_mode": {
    "name": "ipython",
    "version": 3
   },
   "file_extension": ".py",
   "mimetype": "text/x-python",
   "name": "python",
   "nbconvert_exporter": "python",
   "pygments_lexer": "ipython3",
   "version": "3.12.6"
  }
 },
 "nbformat": 4,
 "nbformat_minor": 5
}
